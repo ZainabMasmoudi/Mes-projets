{
 "cells": [
  {
   "cell_type": "code",
   "execution_count": 1,
   "id": "b5eaa7b0-6b2f-43db-90e3-55ebea0841be",
   "metadata": {},
   "outputs": [],
   "source": [
    "from sympy import Matrix, Rational, nsimplify, pprint\n",
    "import numpy as np"
   ]
  },
  {
   "cell_type": "code",
   "execution_count": 21,
   "id": "a99f2ed5-c1d7-4890-a09b-205cef1e4407",
   "metadata": {},
   "outputs": [
    {
     "name": "stdout",
     "output_type": "stream",
     "text": [
      "Matrice A :\n",
      "⎡4   3   -2⎤\n",
      "⎢          ⎥\n",
      "⎢-3  -1  3 ⎥\n",
      "⎢          ⎥\n",
      "⎣2   3   0 ⎦\n",
      "\n",
      "les valeur propre de A et leur multiplicité sont:  {-1: 1, 2: 2}\n",
      "\n",
      "Matrice de passage P :\n",
      "⎡1   1  -1⎤\n",
      "⎢         ⎥\n",
      "⎢-1  0  1 ⎥\n",
      "⎢         ⎥\n",
      "⎣1   1  0 ⎦\n",
      "\n",
      "Forme de Jordan J :\n",
      "⎡-1  0  0⎤\n",
      "⎢        ⎥\n",
      "⎢0   2  1⎥\n",
      "⎢        ⎥\n",
      "⎣0   0  2⎦\n",
      "\n",
      "Vérification P^{-1} A P == J : True\n"
     ]
    }
   ],
   "source": [
    "def to_sympy_matrix(mat):\n",
    "    \"\"\"\n",
    "    Convertit une liste de listes (matrice) en sympy.Matrix.\n",
    "    Si la matrice contient des floats, on essaie de les convertir en rationnels\n",
    "    (nsimplify) pour un résultat exact quand c'est possible.\n",
    "    \"\"\"\n",
    "    has_float = any(isinstance(x, float) for row in mat for x in row)\n",
    "    if has_float:\n",
    "        sym_rows = []\n",
    "        for row in mat:\n",
    "            sym_row = [nsimplify(x) for x in row]\n",
    "            sym_rows.append(sym_row)\n",
    "        return Matrix(sym_rows)\n",
    "    else:\n",
    "        return Matrix(mat)\n",
    "\n",
    "def jordan_reduction(mat):\n",
    "    \"\"\"\n",
    "    mat : list of lists or sympy.Matrix\n",
    "    Retourne (P, J) où J = P^{-1} * A * P est la forme de Jordan, P la matrice de passage.\n",
    "    \"\"\"\n",
    "    if not isinstance(mat, Matrix):\n",
    "        A = to_sympy_matrix(mat)\n",
    "    else:\n",
    "        A = mat\n",
    "    try:\n",
    "        P, J = A.jordan_form()\n",
    "    except Exception:\n",
    "        # fallback si l'ordre est inversé dans cette version : essayer l'inverse\n",
    "        out = A.jordan_form()\n",
    "        if len(out) == 2:\n",
    "            # essayer les deux ordres\n",
    "            if A == out[0].inv() * out[1] * out[0]:\n",
    "                P, J = out\n",
    "            elif A == out[1].inv() * out[0] * out[1]:\n",
    "                P, J = out[1], out[0]\n",
    "            else:\n",
    "                # dernière tentative : assigner (P,J) de façon \"classique\"\n",
    "                P, J = out\n",
    "        else:\n",
    "            raise\n",
    "\n",
    "    # vérification\n",
    "    verified = (P.inv() * A * P).simplify() == J.simplify()\n",
    "    return A, P, J, verified\n",
    "\n",
    "if __name__ == \"__main__\":\n",
    "    A_np = np.array([\n",
    "    [4 , 3 , -2],\n",
    "    [-3 , -1 , 3],\n",
    "    [2 , 3 , 0]\n",
    "])\n",
    "\n",
    "    A = Matrix(A_np)\n",
    "    P, J = A.jordan_form()\n",
    "    \n",
    "    print(\"Matrice A :\")\n",
    "    pprint(A)\n",
    "    print(\"\\nles valeur propre de A et leur multiplicité sont: \",A.eigenvals())\n",
    "    print(\"\\nMatrice de passage P :\")\n",
    "    pprint(P)\n",
    "    print(\"\\nForme de Jordan J :\")\n",
    "    pprint(J)\n",
    "    print(\"\\nVérification P^{-1} A P == J :\", (P.inv()*A*P == J))"
   ]
  },
  {
   "cell_type": "code",
   "execution_count": null,
   "id": "15ee0f73-055e-4b2d-b5c2-d70fc1809d54",
   "metadata": {},
   "outputs": [],
   "source": []
  }
 ],
 "metadata": {
  "kernelspec": {
   "display_name": "Python [conda env:base] *",
   "language": "python",
   "name": "conda-base-py"
  },
  "language_info": {
   "codemirror_mode": {
    "name": "ipython",
    "version": 3
   },
   "file_extension": ".py",
   "mimetype": "text/x-python",
   "name": "python",
   "nbconvert_exporter": "python",
   "pygments_lexer": "ipython3",
   "version": "3.12.7"
  }
 },
 "nbformat": 4,
 "nbformat_minor": 5
}
